{
 "cells": [
  {
   "cell_type": "markdown",
   "id": "08692684-0699-4152-a12c-bef8f13de4b5",
   "metadata": {},
   "source": [
    "# 3.1 変数、定数"
   ]
  },
  {
   "cell_type": "code",
   "execution_count": null,
   "id": "5846df1b-7dcb-4806-bb4c-5b568efdac27",
   "metadata": {},
   "outputs": [],
   "source": [
    "# 3.1\n",
    "%matplotlib inline\n",
    "\n",
    "import numpy as np\n",
    "import matplotlib.pyplot as plt\n",
    "\n",
    "a = 1.5\n",
    "x = np.linspace(-1,1)\n",
    "y = a * x\n",
    "\n",
    "plt.plot(x,y)\n",
    "plt.xlabel(\"x\", size=14)\n",
    "plt.ylabel(\"y\", size=14)\n",
    "plt.grid()\n",
    "plt.show()"
   ]
  },
  {
   "cell_type": "code",
   "execution_count": null,
   "id": "8e582a08-39bf-4b11-a72c-f1795a1abeba",
   "metadata": {},
   "outputs": [],
   "source": [
    "# 3.2\n",
    "\n",
    "import numpy as np\n",
    "import matplotlib.pyplot as plt\n",
    "\n",
    "b = 2\n",
    "x = np.linspace(-1, 1)\n",
    "y = b * x\n",
    "\n",
    "plt.plot(x,y)\n",
    "plt.xlabel(\"x\", size=14)\n",
    "plt.ylabel(\"y\", size=14)\n",
    "plt.grid()\n",
    "plt.show()"
   ]
  },
  {
   "cell_type": "markdown",
   "id": "f758a0dd-5e05-4d6c-ad16-d60d0dadd3be",
   "metadata": {},
   "source": [
    "# 3.2 関数"
   ]
  },
  {
   "cell_type": "code",
   "execution_count": null,
   "id": "bf9836c3-131d-4b13-a300-e07b22bdeab4",
   "metadata": {},
   "outputs": [],
   "source": [
    "# 3.4\n",
    "import numpy as np\n",
    "\n",
    "def my_func(x):\n",
    "    return 3 * x + 2\n",
    "\n",
    "x = 4\n",
    "y = my_func(x)\n",
    "print(y)"
   ]
  },
  {
   "cell_type": "code",
   "execution_count": null,
   "id": "48855df9-17ab-4294-bf36-0881c64f87cc",
   "metadata": {},
   "outputs": [],
   "source": [
    "# 3.5\n",
    "import numpy as np\n",
    "\n",
    "def my_func(x):\n",
    "    return 4 * x + 1\n",
    "\n",
    "x = 3\n",
    "y = my_func(x)\n",
    "print(y)"
   ]
  },
  {
   "cell_type": "markdown",
   "id": "4819f09a-81a6-4a55-9198-9ea136d5264a",
   "metadata": {},
   "source": [
    "# 3.3 べき乗と平方根"
   ]
  },
  {
   "cell_type": "code",
   "execution_count": null,
   "id": "8a9db19d-d15e-4271-bb9c-2d041f23193c",
   "metadata": {},
   "outputs": [],
   "source": [
    "# 3.7\n",
    "%matplotlib inline\n",
    "\n",
    "import numpy as np\n",
    "import matplotlib.pyplot as plt\n",
    "\n",
    "def my_func(x):\n",
    "    a = 3\n",
    "    return x ** a\n",
    "\n",
    "x = np.linspace(0, 2)\n",
    "y = my_func(x)\n",
    "\n",
    "plt.plot(x, y)\n",
    "plt.xlabel(\"x\", size=14)\n",
    "plt.ylabel(\"y\", size=14)\n",
    "plt.grid()\n",
    "plt.show()"
   ]
  },
  {
   "cell_type": "code",
   "execution_count": null,
   "id": "d91f1480-97b1-4c86-a872-f8bd446982dd",
   "metadata": {},
   "outputs": [],
   "source": [
    "# 3.8\n",
    "import numpy as np\n",
    "import matplotlib.pyplot as plt\n",
    "\n",
    "def my_func(x):\n",
    "    return np.sqrt(x)\n",
    "\n",
    "x = np.linspace(0, 9)\n",
    "y = my_func(x)\n",
    "\n",
    "plt.plot(x, y)\n",
    "plt.xlabel(\"x\", size=14)\n",
    "plt.ylabel(\"y\", size=14)\n",
    "plt.grid()\n",
    "plt.show()"
   ]
  },
  {
   "cell_type": "code",
   "execution_count": null,
   "id": "979c6b2f-b9b3-4364-a343-22df41ae9028",
   "metadata": {},
   "outputs": [],
   "source": [
    "# 3.9\n",
    "import numpy as np\n",
    "import matplotlib.pyplot as plt\n",
    "\n",
    "def my_func(x):\n",
    "    return np.sqrt(x) + 1\n",
    "\n",
    "x = np.linspace(0, 4)\n",
    "y = my_func(x)\n",
    "\n",
    "plt.plot(x, y)\n",
    "plt.xlabel(\"x\", size=14)\n",
    "plt.ylabel(\"y\", size=14)\n",
    "plt.grid()\n",
    "plt.show()"
   ]
  },
  {
   "cell_type": "markdown",
   "id": "506089c1-ba70-4638-a2d7-6a174c3c5a87",
   "metadata": {},
   "source": [
    "# 3.4 多項式関数"
   ]
  },
  {
   "cell_type": "code",
   "execution_count": null,
   "id": "58748384-1c21-4454-bd9a-6be832ba6edc",
   "metadata": {},
   "outputs": [],
   "source": [
    "# 3.11\n",
    "%matplotlib inline\n",
    "\n",
    "import numpy as np\n",
    "import matplotlib.pyplot as plt\n",
    "\n",
    "def my_func(x):\n",
    "    return 3 * x ** 2 + 2 * x + 1\n",
    "\n",
    "x = np.linspace(-2, 2)\n",
    "y = my_func(x)\n",
    "\n",
    "plt.plot(x, y)\n",
    "plt.xlabel(\"x\", size=14)\n",
    "plt.ylabel(\"y\", size=14)\n",
    "plt.grid()\n",
    "plt.show()"
   ]
  },
  {
   "cell_type": "code",
   "execution_count": null,
   "id": "9f8c6eaf-cc72-47ff-9f41-f0155b87316b",
   "metadata": {},
   "outputs": [],
   "source": [
    "# 3.12\n",
    "import numpy as np\n",
    "import matplotlib.pyplot as plt\n",
    "\n",
    "def my_func(x):\n",
    "    return 4 * x ** 3 + 2 * x **2 + x + 3\n",
    "\n",
    "x = np.linspace(-2, 2)\n",
    "y = my_func(x)\n",
    "\n",
    "plt.plot(x, y)\n",
    "plt.xlabel(\"x\", size=14)\n",
    "plt.ylabel(\"y\", size=14)\n",
    "plt.grid()\n",
    "plt.show()"
   ]
  },
  {
   "cell_type": "code",
   "execution_count": null,
   "id": "24415221-47c9-4b89-be52-08430fc89a1d",
   "metadata": {},
   "outputs": [],
   "source": [
    "# 3.12\n",
    "import numpy as np\n",
    "import matplotlib.pyplot as plt\n",
    "\n",
    "def my_func(x):\n",
    "    return (x ** 3) - (2 * x ** 2) - (3 * x) + 4\n",
    "\n",
    "x = np.linspace(-2, 2)\n",
    "y = my_func(x)\n",
    "\n",
    "plt.plot(x, y)\n",
    "plt.xlabel(\"x\", size=14)\n",
    "plt.ylabel(\"y\", size=14)\n",
    "plt.grid()\n",
    "plt.show()"
   ]
  },
  {
   "cell_type": "markdown",
   "id": "c4e6441b-c1ab-4c59-bfd1-68668613fb00",
   "metadata": {},
   "source": [
    "# 3.5 三角関数"
   ]
  },
  {
   "cell_type": "code",
   "execution_count": null,
   "id": "90612f54-0750-46ba-a237-617c39a576ee",
   "metadata": {},
   "outputs": [],
   "source": [
    "# 3.15\n",
    "%matplotlib inline\n",
    "\n",
    "import numpy as np\n",
    "import matplotlib.pyplot as plt\n",
    "\n",
    "def my_sin(x):\n",
    "    return np.sin(x)\n",
    "\n",
    "def my_cos(x):\n",
    "    return np.cos(x)\n",
    "\n",
    "x = np.linspace(-np.pi, np.pi)\n",
    "y_sin = my_sin(x)\n",
    "y_cos = my_cos(x)\n",
    "\n",
    "plt.plot(x, y_sin, label=\"sin\")\n",
    "plt.plot(x, y_cos, label=\"cos\")\n",
    "plt.legend()\n",
    "\n",
    "plt.xlabel(\"x\", size=14)\n",
    "plt.ylabel(\"y\", size=14)\n",
    "plt.grid()\n",
    "\n",
    "plt.show()"
   ]
  },
  {
   "cell_type": "code",
   "execution_count": null,
   "id": "f895d8c0-6dba-40c6-b2d7-518b002ba968",
   "metadata": {},
   "outputs": [],
   "source": [
    "# 3.16\n",
    "import numpy as np\n",
    "import matplotlib.pyplot as plt\n",
    "\n",
    "def my_tan(x):\n",
    "    return np.tan(x)\n",
    "\n",
    "x = np.linspace(-1.3, 1.3)\n",
    "y_tan = my_tan(x)\n",
    "\n",
    "plt.plot(x, y_tan, label=\"tan\")\n",
    "plt.legend()\n",
    "\n",
    "plt.xlabel(\"x\", size=14)\n",
    "plt.ylabel(\"y\", size=14)\n",
    "plt.grid()\n",
    "\n",
    "plt.show()"
   ]
  },
  {
   "cell_type": "code",
   "execution_count": null,
   "id": "d78046e3-f30f-4813-9a50-8601a2cbfed2",
   "metadata": {},
   "outputs": [],
   "source": [
    "# 3.17\n",
    "import numpy as np\n",
    "import matplotlib.pyplot as plt\n",
    "\n",
    "def my_sin(x):\n",
    "    return np.sin(x)\n",
    "\n",
    "def my_cos(x):\n",
    "    return np.cos(x)\n",
    "\n",
    "x = np.linspace(-2*np.pi, 2*np.pi)\n",
    "y_sin = my_sin(x)\n",
    "y_cos = my_cos(x)\n",
    "\n",
    "plt.plot(x, y_sin, label=\"sin\")\n",
    "plt.plot(x, y_cos, label=\"cos\")\n",
    "plt.legend()\n",
    "\n",
    "plt.xlabel(\"x\", size=14)\n",
    "plt.ylabel(\"y\", size=14)\n",
    "plt.grid()\n",
    "\n",
    "plt.show()"
   ]
  },
  {
   "cell_type": "markdown",
   "id": "a58bab7e-5731-4d02-b2eb-a954a61acb00",
   "metadata": {},
   "source": [
    "# 3.6 総和と総乗"
   ]
  },
  {
   "cell_type": "code",
   "execution_count": null,
   "id": "247f32ed-3c09-492d-a30e-02423ff5a3f6",
   "metadata": {},
   "outputs": [],
   "source": [
    "# 3.19\n",
    "import numpy as np\n",
    "a = np.array([1, 3, 2, 5, 4])\n",
    "y = np.sum(a)\n",
    "print(y)"
   ]
  },
  {
   "cell_type": "code",
   "execution_count": null,
   "id": "fb32bf3f-d471-47f4-8e50-24a7025a1a31",
   "metadata": {},
   "outputs": [],
   "source": [
    "# 3.20\n",
    "import numpy as np\n",
    "a = np.array([1, 3, 2, 5, 4])\n",
    "y = np.prod(a)\n",
    "print(y)"
   ]
  },
  {
   "cell_type": "code",
   "execution_count": null,
   "id": "9e4a7ce2-e9e5-4340-b0b1-4d8bc63d6049",
   "metadata": {},
   "outputs": [],
   "source": [
    "# 3.21\n",
    "import numpy as np\n",
    "b = np.array([6, 1, 5, 4, 3, 2])\n",
    "y1 = np.sum(b)\n",
    "y2 = np.prod(b)\n",
    "print(y1, y2)"
   ]
  },
  {
   "cell_type": "markdown",
   "id": "7f07577b-5089-4a14-b109-6cf95740fe27",
   "metadata": {},
   "source": [
    "# 3.7 乱数"
   ]
  },
  {
   "cell_type": "code",
   "execution_count": null,
   "id": "75700d26-1e24-49d6-9bdb-08b16e7c3ea5",
   "metadata": {},
   "outputs": [],
   "source": [
    "# 3.23\n",
    "import numpy as np\n",
    "r_int = np.random.randint(6) + 1\n",
    "print(r_int)"
   ]
  },
  {
   "cell_type": "code",
   "execution_count": null,
   "id": "5ef6c879-e603-4d64-9382-d24caa1e3a62",
   "metadata": {},
   "outputs": [],
   "source": [
    "# 3.24\n",
    "import numpy as np\n",
    "r_dec = np.random.rand()\n",
    "print(r_dec)"
   ]
  },
  {
   "cell_type": "code",
   "execution_count": null,
   "id": "235a32ad-17e1-4dd1-97eb-080223260d6d",
   "metadata": {},
   "outputs": [],
   "source": [
    "# 3.25\n",
    "%matplotlib inline\n",
    "import numpy as np\n",
    "import matplotlib.pyplot as plt\n",
    "\n",
    "n = 100\n",
    "x = np.random.rand(n)\n",
    "y = np.random.rand(n)\n",
    "\n",
    "plt.scatter(x, y)\n",
    "plt.grid()\n",
    "plt.show()"
   ]
  },
  {
   "cell_type": "code",
   "execution_count": null,
   "id": "82ee9c6c-cea0-4553-8a43-88a215cea3b7",
   "metadata": {},
   "outputs": [],
   "source": [
    "# 3.26\n",
    "import numpy as np\n",
    "import matplotlib.pyplot as plt\n",
    "\n",
    "n = 1000\n",
    "x = np.random.randn(n)\n",
    "y = np.random.randn(n)\n",
    "\n",
    "plt.scatter(x, y)\n",
    "plt.grid()\n",
    "plt.show()"
   ]
  },
  {
   "cell_type": "code",
   "execution_count": null,
   "id": "5614fcf0-c81e-4a75-b830-70b2e8a0f967",
   "metadata": {},
   "outputs": [],
   "source": [
    "# 3.27\n",
    "import numpy as np\n",
    "\n",
    "r_int = np.random.randint(10) + 1\n",
    "print(r_int)"
   ]
  },
  {
   "cell_type": "markdown",
   "id": "392a408f-9a62-498f-977f-929460eee0d6",
   "metadata": {},
   "source": [
    "# 3.8 LaTeXの基礎"
   ]
  },
  {
   "cell_type": "markdown",
   "id": "bd0ffb2c-7964-48df-8709-c0ccef29c6ba",
   "metadata": {},
   "source": [
    "3.29\n",
    "$$ y=2x+1$$"
   ]
  },
  {
   "cell_type": "markdown",
   "id": "f045531c-b6a2-4930-a9f0-3c3bff00e492",
   "metadata": {},
   "source": [
    "3.30\n",
    "$$y=x^3 + \\sqrt x + \\frac{a_{ij}}{b_{ij}^4} - \\sum_{k=1}^n a_k$$"
   ]
  },
  {
   "cell_type": "markdown",
   "id": "cdd598ed-3320-496f-97ef-b293087d457a",
   "metadata": {},
   "source": [
    "# 3.9 絶対値"
   ]
  },
  {
   "cell_type": "code",
   "execution_count": null,
   "id": "9df074ec-1edb-4b70-a75a-067fd5fe8c54",
   "metadata": {},
   "outputs": [],
   "source": [
    "# 3.31\n",
    "import numpy as np\n",
    "\n",
    "x = [-5, 5, -1.28, np.sqrt(5), -np.pi/2]\n",
    "print(np.abs(x))"
   ]
  },
  {
   "cell_type": "code",
   "execution_count": null,
   "id": "6b05fd4a-a078-45f0-9502-e41080548d9e",
   "metadata": {},
   "outputs": [],
   "source": [
    "# 3.32\n",
    "%matplotlib inline\n",
    "\n",
    "import numpy as np\n",
    "import matplotlib.pyplot as plt\n",
    "\n",
    "x = np.linspace(-np.pi, np.pi)\n",
    "y_sin = np.abs(np.sin(x))\n",
    "y_cos = np.abs(np.cos(x))\n",
    "\n",
    "plt.scatter(x, y_sin, label=\"sin\")\n",
    "plt.scatter(x, y_cos, label=\"cos\")\n",
    "plt.legend()\n",
    "\n",
    "plt.xlabel(\"x\", size=14)\n",
    "plt.ylabel(\"y\", size=14)\n",
    "\n",
    "plt.grid()\n",
    "plt.show()"
   ]
  },
  {
   "cell_type": "code",
   "execution_count": null,
   "id": "9d51067f-241c-4e48-9a5f-9e0f9016c316",
   "metadata": {},
   "outputs": [],
   "source": [
    "# 3.33\n",
    "import numpy as np\n",
    "import matplotlib.pyplot as plt\n",
    "\n",
    "x = np.linspace(-4, 4)\n",
    "y = np.abs(x**2 - 4)\n",
    "\n",
    "plt.scatter(x, y)\n",
    "plt.xlabel(\"x\", size=14)\n",
    "plt.ylabel(\"y\", size=14)\n",
    "plt.grid()\n",
    "\n",
    "plt.show()"
   ]
  },
  {
   "cell_type": "code",
   "execution_count": null,
   "id": "2f394709-84eb-483a-9e09-57bd6019d137",
   "metadata": {},
   "outputs": [],
   "source": []
  }
 ],
 "metadata": {
  "kernelspec": {
   "display_name": "Python 3 (ipykernel)",
   "language": "python",
   "name": "python3"
  },
  "language_info": {
   "codemirror_mode": {
    "name": "ipython",
    "version": 3
   },
   "file_extension": ".py",
   "mimetype": "text/x-python",
   "name": "python",
   "nbconvert_exporter": "python",
   "pygments_lexer": "ipython3",
   "version": "3.11.5"
  }
 },
 "nbformat": 4,
 "nbformat_minor": 5
}
