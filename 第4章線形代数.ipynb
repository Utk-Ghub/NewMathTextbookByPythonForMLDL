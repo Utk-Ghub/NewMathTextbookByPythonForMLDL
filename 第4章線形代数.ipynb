{
 "cells": [
  {
   "cell_type": "markdown",
   "id": "d44c5060-5a4f-428c-9d8d-476c38d8ebec",
   "metadata": {},
   "source": [
    "# 4.1 スカラー、ベクトル、行列、テンソル"
   ]
  },
  {
   "cell_type": "code",
   "execution_count": null,
   "id": "af1e2c11-2ec9-4cd4-a65e-f39e1b33eaa0",
   "metadata": {},
   "outputs": [],
   "source": [
    "# 4.2\n",
    "import numpy as np\n",
    "\n",
    "a = np.array([1, 2, 3])\n",
    "print(a)\n",
    "\n",
    "b = np.array([-2.4, 0.25, -1.3, 1.8, 0.61])\n",
    "print(b)"
   ]
  },
  {
   "cell_type": "code",
   "execution_count": null,
   "id": "26b0a0a7-ddf0-4e51-b314-16845f0dff2c",
   "metadata": {},
   "outputs": [],
   "source": [
    "# 4.3\n",
    "import numpy as np\n",
    "\n",
    "a = np.array([[1, 2, 3], [4, 5, 6]])\n",
    "print(a)\n",
    "\n",
    "b = np.array([[0.21, 0.14], [-1.3, 0.81], [0.12, -2.1]])\n",
    "print(b)"
   ]
  },
  {
   "cell_type": "code",
   "execution_count": null,
   "id": "046af38d-22e9-4733-b8e7-722748a05eef",
   "metadata": {},
   "outputs": [],
   "source": [
    "# 4.4\n",
    "import numpy as np\n",
    "\n",
    "a = np.array([[[0, 1, 2, 3], [2, 3, 4, 5], [4, 5, 6, 7]],\n",
    "             [[1, 2, 3, 4], [3, 4, 5, 6], [5, 6, 7, 8]]])\n",
    "print(a)"
   ]
  },
  {
   "cell_type": "code",
   "execution_count": null,
   "id": "2a438a1e-d02b-49cc-b6d4-a65fcdc7b46b",
   "metadata": {},
   "outputs": [],
   "source": [
    "# 4.5\n",
    "import numpy as np\n",
    "\n",
    "a = 1.5\n",
    "print(a)\n",
    "\n",
    "print()\n",
    "\n",
    "b = np.array([1, 2, 3, 4, 5])\n",
    "print(b)\n",
    "\n",
    "print()\n",
    "\n",
    "c = np.array([[1, 2, 3], [4, 5, 6]])\n",
    "print(c)\n",
    "\n",
    "print()\n",
    "\n",
    "d = np.array([[[0, 1, 2], [3, 4, 5], [6, 7, 8]],\n",
    "              [[8, 7, 6], [5, 4, 3], [2, 1, 0]]])\n",
    "print(d)"
   ]
  },
  {
   "cell_type": "markdown",
   "id": "4760d0c7-6cbe-4c09-83a8-04e76dbc38eb",
   "metadata": {},
   "source": [
    "# 4.2 ベクトルの内積とノルム"
   ]
  },
  {
   "cell_type": "code",
   "execution_count": null,
   "id": "477ece76-c270-449c-be7d-baa3c87024b8",
   "metadata": {},
   "outputs": [],
   "source": [
    "# 4.6\n",
    "import numpy as np\n",
    "\n",
    "a = np.array([1, 2, 3])\n",
    "b = np.array([3, 2, 1])\n",
    "\n",
    "print(\"--dot()関数--\")\n",
    "print(np.dot(a, b))\n",
    "print(\"--積の総和--\")\n",
    "print(np.sum(a * b))"
   ]
  },
  {
   "cell_type": "code",
   "execution_count": null,
   "id": "6228861f-b6a3-4370-919b-4c88d46ca102",
   "metadata": {},
   "outputs": [],
   "source": [
    "# 4.7\n",
    "import numpy as np\n",
    "\n",
    "a = np.array([1, 1, -1, -1])\n",
    "\n",
    "print(\"---L2 ノルム---\")\n",
    "print(np.linalg.norm(a))\n",
    "print(\"---L1 ノルム---\")\n",
    "print(np.linalg.norm(a, 1))"
   ]
  },
  {
   "cell_type": "code",
   "execution_count": null,
   "id": "762d33d6-0f3a-4126-9322-332e4940192f",
   "metadata": {},
   "outputs": [],
   "source": [
    "# 4.8\n",
    "import numpy as np\n",
    "\n",
    "a = np.array([1, -2, 2])\n",
    "b = np.array([2, -2, 1])\n",
    "print(\"---内積---\")\n",
    "print(np.dot(a, b))\n",
    "\n",
    "print(\"---L2 ノルム---\")\n",
    "print(np.linalg.norm(a))\n",
    "\n",
    "print(\"---L1 ノルム---\")\n",
    "print(np.linalg.norm(a, 1))"
   ]
  },
  {
   "cell_type": "markdown",
   "id": "bf1eaa1e-9dc4-4fdb-b7fe-99fbe86a926a",
   "metadata": {},
   "source": [
    "# 4.3 行列の積"
   ]
  },
  {
   "cell_type": "code",
   "execution_count": null,
   "id": "1afc4262-d008-413f-ac13-b58bbeaad011",
   "metadata": {},
   "outputs": [],
   "source": [
    "# 4.10\n",
    "import numpy as np\n",
    "\n",
    "a = np.array([[0, 1, 2], [1, 2, 3]])\n",
    "b = np.array([[2, 1],\n",
    "              [2, 1],\n",
    "              [2, 1]])\n",
    "\n",
    "print(np.dot(a, b))"
   ]
  },
  {
   "cell_type": "code",
   "execution_count": null,
   "id": "41aae395-0283-47c4-a9d9-bf9f17b40c86",
   "metadata": {},
   "outputs": [],
   "source": [
    "# 4.11\n",
    "import numpy as np\n",
    "\n",
    "a = np.array([[0, 1, 2],\n",
    "             [3, 4, 5],\n",
    "             [6, 7, 8]])\n",
    "\n",
    "b = np.array([[0, 1, 2],\n",
    "             [2, 0, 1],\n",
    "             [1, 2, 0]])\n",
    "\n",
    "print(a * b)"
   ]
  },
  {
   "cell_type": "code",
   "execution_count": null,
   "id": "c82b1496-429c-41c1-b017-4d7a623c0fff",
   "metadata": {},
   "outputs": [],
   "source": [
    "# 4.12\n",
    "import numpy as np\n",
    "\n",
    "a = np.array([[0, 1, 2], [1, 2, 3]])\n",
    "b = np.array([[0, 1],\n",
    "            [1, 2],\n",
    "            [2, 3]])\n",
    "\n",
    "print(np.dot(a, b))\n",
    "\n",
    "print()\n",
    "\n",
    "c = np.array([[0, 1, 2],\n",
    "             [3, 4, 5],\n",
    "             [6, 7, 8]])\n",
    "\n",
    "d = np.array([[0, 2, 0],\n",
    "             [2, 0, 2],\n",
    "             [0, 2, 0]])\n",
    "\n",
    "print(c * d)"
   ]
  },
  {
   "cell_type": "markdown",
   "id": "3e974fd7-3c2a-4e59-9d22-13ebff096d11",
   "metadata": {},
   "source": [
    "# 4.4 転置"
   ]
  },
  {
   "cell_type": "code",
   "execution_count": null,
   "id": "67eca09e-8a25-4ccc-8c48-fa5582fc558d",
   "metadata": {},
   "outputs": [],
   "source": [
    "# 4.14\n",
    "import numpy as np\n",
    "\n",
    "a = np.array([[1, 2, 3], [4, 5, 6]])\n",
    "print(a.T)"
   ]
  },
  {
   "cell_type": "code",
   "execution_count": null,
   "id": "be323eff-a693-416f-900f-9de5342b2174",
   "metadata": {},
   "outputs": [],
   "source": [
    "# 4.15\n",
    "import numpy as np\n",
    "\n",
    "a = np.array([[0, 1, 2], [1, 2, 3]])\n",
    "b = np.array([[0, 1, 2], [1, 2, 3]])\n",
    "\n",
    "# print(np.dot(a, b))\n",
    "# ValueError: shapes (2,3) and (2,3) not aligned: 3 (dim 1) != 2 (dim 0)\n",
    "\n",
    "print(np.dot(a, b.T))"
   ]
  },
  {
   "cell_type": "code",
   "execution_count": null,
   "id": "ba67a592-98c2-48d4-8223-eae8143e1fc4",
   "metadata": {},
   "outputs": [],
   "source": [
    "# 4.16\n",
    "import numpy as np\n",
    "\n",
    "a = np.array([[0, 1, 2], [1, 2, 3]])\n",
    "b = np.array([[0, 1, 2], [2, 3, 4]])\n",
    "\n",
    "print(np.dot(a, b.T))\n",
    "print(np.dot(a.T, b))"
   ]
  },
  {
   "cell_type": "markdown",
   "id": "5a0a154a-b637-4b35-a8a5-754423aba24e",
   "metadata": {},
   "source": [
    "# 行列式と逆行列"
   ]
  },
  {
   "cell_type": "code",
   "execution_count": null,
   "id": "89226918-97d5-4ba1-8781-5b3f5ff12cf2",
   "metadata": {},
   "outputs": [],
   "source": [
    "# 4.18\n",
    "import numpy as np\n",
    "\n",
    "print(np.eye(2))\n",
    "print()\n",
    "print(np.eye(3))\n",
    "print()\n",
    "print(np.eye(4))"
   ]
  },
  {
   "cell_type": "code",
   "execution_count": null,
   "id": "e8e8ae63-c5f9-4086-ae3f-31711a83d0d3",
   "metadata": {},
   "outputs": [],
   "source": [
    "# 4.19\n",
    "import numpy as np\n",
    "\n",
    "a = np.array([[1, 2], [3, 4]])\n",
    "print(np.linalg.det(a))\n",
    "\n",
    "b = np.array([[1, 2], [0, 0]])\n",
    "print(np.linalg.det(b))"
   ]
  },
  {
   "cell_type": "code",
   "execution_count": null,
   "id": "9b8a808e-4bfd-478b-a50f-20c3fad6ed3e",
   "metadata": {},
   "outputs": [],
   "source": [
    "# 4.20\n",
    "import numpy as np\n",
    "\n",
    "a = np.array([[1, 2], [3, 4]])\n",
    "print(np.linalg.inv(a))\n",
    "\n",
    "b = np.array([[1, 2], [0, 0]])\n",
    "# print(np.linalg.inv(b))\n",
    "# LinAlgError: Singular matrix"
   ]
  },
  {
   "cell_type": "code",
   "execution_count": null,
   "id": "a2114374-ac5b-456f-94a6-5b4a75289a05",
   "metadata": {},
   "outputs": [],
   "source": [
    "# 4.21\n",
    "import numpy as np\n",
    "\n",
    "a = np.array([[1, 1], [1, 2]])\n",
    "\n",
    "print(np.linalg.det(a))\n",
    "print()\n",
    "print(np.linalg.inv(a))"
   ]
  },
  {
   "cell_type": "markdown",
   "id": "bde40089-f86e-404a-8aaa-ccc387d0c398",
   "metadata": {},
   "source": [
    "# 4.6 線形変換"
   ]
  },
  {
   "cell_type": "code",
   "execution_count": null,
   "id": "16cfcb71-d404-475f-b0c3-746aabe74493",
   "metadata": {},
   "outputs": [],
   "source": [
    "# 4.23\n",
    "%matplotlib inline\n",
    "\n",
    "import numpy as np\n",
    "import matplotlib.pyplot as plt\n",
    "\n",
    "def arrow(start, size,  color):\n",
    "    plt.quiver(start[0], start[1], size[0], size[1],\n",
    "               angles=\"xy\", scale_units=\"xy\", scale=1, color=color)\n",
    "\n",
    "s = np.array([0, 0])\n",
    "a = np.array([2, 3])\n",
    "\n",
    "arrow(s, a, color=\"black\")\n",
    "\n",
    "plt.xlim([-3, 3])\n",
    "plt.ylim([-3, 3])\n",
    "plt.xlabel(\"x\", size=14)\n",
    "plt.ylabel(\"y\", size=14)\n",
    "plt.grid()\n",
    "# plt.axes()ではうまくいかないので、plt.subplot()に変更\n",
    "plt.subplot().set_aspect(\"equal\")\n",
    "plt.show()"
   ]
  },
  {
   "cell_type": "code",
   "execution_count": null,
   "id": "3246f675-9f8a-4914-af4d-cac6a21553a0",
   "metadata": {},
   "outputs": [],
   "source": [
    "# 4.24\n",
    "import numpy as np\n",
    "import matplotlib.pyplot as plt\n",
    "\n",
    "a = np.array([2, 3])\n",
    "A = np.array([[2, -1], [2, -2]])\n",
    "b = np.dot(A, a)\n",
    "\n",
    "print(\"変換前のベクトル（a）：\", a)\n",
    "print(\"変換後のベクトル（b）：\", b)\n",
    "\n",
    "def arrow(start, size, color):\n",
    "    plt.quiver(start[0], start[1], size[0], size[1],\n",
    "               angles=\"xy\", scale_units=\"xy\", scale=1, color=color)\n",
    "\n",
    "s = np.array([0, 0])\n",
    "\n",
    "arrow(s, a, color=\"black\")\n",
    "arrow(s, b, color=\"blue\")\n",
    "\n",
    "plt.xlim([-3, 3])\n",
    "plt.ylim([-3, 3])\n",
    "plt.xlabel(\"x\", size=14)\n",
    "plt.ylabel(\"y\", size=14)\n",
    "plt.grid()\n",
    "# plt.axes()ではうまくいかないので、plt.subplot()に変更\n",
    "plt.subplot().set_aspect(\"equal\")\n",
    "plt.show()"
   ]
  },
  {
   "cell_type": "code",
   "execution_count": null,
   "id": "2a745694-4f4e-41f6-9868-e6d497bafde4",
   "metadata": {},
   "outputs": [],
   "source": [
    "# 4.25\n",
    "import numpy as np\n",
    "import matplotlib.pyplot as plt\n",
    "\n",
    "a = np.array([2, 3])\n",
    "e_x = np.array([1, 0])\n",
    "e_y = np.array([0, 1])\n",
    "\n",
    "print(\"a:\", a)\n",
    "print(\"e_x:\", e_x)\n",
    "print(\"e_y:\", e_y)\n",
    "\n",
    "def arrow(start, size, color):\n",
    "    plt.quiver(start[0], start[1], size[0], size[1],\n",
    "               angles=\"xy\", scale_units=\"xy\", scale=1, color=color)\n",
    "\n",
    "s = np.array([0, 0])\n",
    "arrow(s, a, color=\"blue\")\n",
    "arrow(s, e_x, color=\"black\")\n",
    "arrow(s, e_y, color=\"black\")\n",
    "\n",
    "plt.xlim([-3, 3])\n",
    "plt.ylim([-3, 3])\n",
    "plt.xlabel(\"x\", size=14)\n",
    "plt.ylabel(\"y\", size=14)\n",
    "plt.grid()\n",
    "# plt.axes()ではうまくいかないので、plt.subplot()に変更\n",
    "plt.subplot().set_aspect(\"equal\")\n",
    "plt.show()"
   ]
  },
  {
   "cell_type": "code",
   "execution_count": null,
   "id": "f145c837-ee22-4c93-bc12-318be832442c",
   "metadata": {},
   "outputs": [],
   "source": [
    "# 4.26\n",
    "import numpy as np\n",
    "import matplotlib.pyplot as plt\n",
    "\n",
    "a = np.array([1, 3])\n",
    "A = np.array([[1, -1], [2, -1]])\n",
    "b = np.dot(A, a)\n",
    "\n",
    "print(\"a:\", a)\n",
    "print(\"b:\", b)\n",
    "\n",
    "def arrow(start, size, color):\n",
    "    plt.quiver(start[0], start[1], size[0], size[1],\n",
    "               angles=\"xy\", scale_units=\"xy\", scale=1, color=color)\n",
    "\n",
    "s = np.array([0, 0])\n",
    "\n",
    "arrow(s, a, color=\"black\")\n",
    "arrow(s, b, color=\"blue\")\n",
    "\n",
    "plt.xlim([-3, 3])\n",
    "plt.ylim([-3, 3])\n",
    "plt.xlabel(\"x\", size=14)\n",
    "plt.ylabel(\"y\", size=14)\n",
    "plt.grid()\n",
    "# plt.axes()ではうまくいかないので、plt.subplot()に変更\n",
    "plt.subplot().set_aspect(\"equal\")\n",
    "plt.show()"
   ]
  },
  {
   "cell_type": "markdown",
   "id": "89830358-eaed-4ade-994d-33f422511dfc",
   "metadata": {},
   "source": [
    "# 4.7 固有値と固有ベクトル"
   ]
  },
  {
   "cell_type": "code",
   "execution_count": null,
   "id": "5cebecf1-c70f-4cf9-af9d-aea0556cdfd2",
   "metadata": {},
   "outputs": [],
   "source": [
    "# 4.28\n",
    "import numpy as np\n",
    "\n",
    "a = np.array([[3, 1], [2, 4]])\n",
    "ev = np.linalg.eig(a)\n",
    "\n",
    "print(ev[0])\n",
    "\n",
    "print()\n",
    "\n",
    "print(ev[1])"
   ]
  },
  {
   "cell_type": "code",
   "execution_count": null,
   "id": "65a85ff0-690b-48c2-9028-cb8197989ad5",
   "metadata": {},
   "outputs": [],
   "source": [
    "# 4.29\n",
    "import numpy as np\n",
    "\n",
    "a = np.array([[-2, 4], [-1, 3]])\n",
    "ev = np.linalg.eig(a)\n",
    "\n",
    "print(ev[0])\n",
    "print()\n",
    "print(ev[1])"
   ]
  },
  {
   "cell_type": "markdown",
   "id": "e53f60d9-0da4-4793-9fe5-e6f749a403ea",
   "metadata": {},
   "source": [
    "# 4.8 コサイン類似度"
   ]
  },
  {
   "cell_type": "code",
   "execution_count": null,
   "id": "a1d29b9a-f772-4aec-8955-b67e88ebf133",
   "metadata": {},
   "outputs": [],
   "source": [
    "# 4.31\n",
    "import numpy as np\n",
    "\n",
    "def cos_sim(vec_1, vec_2):\n",
    "    return np.dot(vec_1, vec_2) / (np.linalg.norm(vec_1) * np.linalg.norm(vec_2))\n",
    "\n",
    "a = np.array([2, 2, 2, 2])\n",
    "b = np.array([1, 1, 1, 1])\n",
    "c = np.array([-1, -1, -1, -1])\n",
    "\n",
    "print(\"--aとbのコサイン類似度---\")\n",
    "print(cos_sim(a, b))\n",
    "\n",
    "print(\"--aとcのコサイン類似度---\")\n",
    "print(cos_sim(a, c))"
   ]
  },
  {
   "cell_type": "code",
   "execution_count": null,
   "id": "7d3ee53b-ae35-4184-b5da-a3393cd7664d",
   "metadata": {},
   "outputs": [],
   "source": [
    "# 4.32\n",
    "import numpy as np\n",
    "\n",
    "def cos_sim(vec_1, vec_2):\n",
    "    return np.dot(vec_1, vec_2) / (np.linalg.norm(vec_1) * np.linalg.norm(vec_2))\n",
    "\n",
    "a = np.array([2, 0, 1, 0])\n",
    "b = np.array([0, 1, 0, 2])\n",
    "\n",
    "print(\"--aとbのコサイン類似度--\")\n",
    "print(cos_sim(a, b))"
   ]
  },
  {
   "cell_type": "code",
   "execution_count": null,
   "id": "622cee69-4c88-40f0-8e59-54e1683d6bfa",
   "metadata": {},
   "outputs": [],
   "source": []
  }
 ],
 "metadata": {
  "kernelspec": {
   "display_name": "Python 3 (ipykernel)",
   "language": "python",
   "name": "python3"
  },
  "language_info": {
   "codemirror_mode": {
    "name": "ipython",
    "version": 3
   },
   "file_extension": ".py",
   "mimetype": "text/x-python",
   "name": "python",
   "nbconvert_exporter": "python",
   "pygments_lexer": "ipython3",
   "version": "3.11.5"
  }
 },
 "nbformat": 4,
 "nbformat_minor": 5
}
