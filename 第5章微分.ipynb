{
 "cells": [
  {
   "cell_type": "markdown",
   "id": "083c4ea2-49c9-4319-b7ff-828ac63e2201",
   "metadata": {},
   "source": [
    "# 5.1 極限と微分"
   ]
  },
  {
   "cell_type": "code",
   "execution_count": null,
   "id": "1dfa7ac0-b15a-4540-9631-c9c5035f217f",
   "metadata": {},
   "outputs": [],
   "source": [
    "# 5.1\n",
    "%matplotlib inline\n",
    "\n",
    "import numpy as np\n",
    "import matplotlib.pyplot as plt\n",
    "\n",
    "def my_func(x):\n",
    "    return 3 * x ** 2 + 4 * x - 5\n",
    "\n",
    "def my_func_dif(x):\n",
    "    return 6 * x + 4\n",
    "\n",
    "x = np.linspace(-3, 3)\n",
    "y = my_func(x)\n",
    "\n",
    "a = 1\n",
    "\n",
    "y_t = my_func_dif(a) * x + my_func(a) - my_func_dif(a) * a\n",
    "\n",
    "plt.plot(x, y, label=\"y\")\n",
    "plt.plot(x, y_t, label=\"y_t\")\n",
    "plt.legend()\n",
    "\n",
    "plt.xlabel(\"x\", size=14)\n",
    "plt.ylabel(\"y\", size=14)\n",
    "plt.grid()\n",
    "\n",
    "plt.show()"
   ]
  },
  {
   "cell_type": "code",
   "execution_count": null,
   "id": "b1ed8ea3-51d7-4641-942f-0299343c4a5a",
   "metadata": {},
   "outputs": [],
   "source": [
    "# 5.2\n",
    "import numpy as np\n",
    "import matplotlib.pyplot as plt\n",
    "\n",
    "def my_func(x):\n",
    "    return -2 * x ** 2 + x + 3\n",
    "\n",
    "def my_func_dif(x):\n",
    "    return -4 * x + 1\n",
    "\n",
    "x = np.linspace(-3, 3)\n",
    "y = my_func(x)\n",
    "\n",
    "a = 1\n",
    "y_t = my_func_dif(a) * x + my_func(a) - my_func_dif(a) * a\n",
    "\n",
    "plt.plot(x, y, label=\"y\")\n",
    "plt.plot(x, y_t, label=\"y_t\")\n",
    "\n",
    "plt.xlabel(\"x\", size=14)\n",
    "plt.ylabel(\"y\", size=14)\n",
    "plt.grid()\n",
    "plt.legend()\n",
    "plt.show()"
   ]
  },
  {
   "cell_type": "markdown",
   "id": "ea0aefd8-f013-4662-9fb1-3a186af545eb",
   "metadata": {},
   "source": [
    "# 5.2 連鎖率"
   ]
  },
  {
   "cell_type": "markdown",
   "id": "33ebde13-5b2c-4ba6-bf56-8f1fb4dd03c8",
   "metadata": {},
   "source": [
    "$$ y = (x^2 + 4x + 1)^4 $$\n",
    "$$ u = x^2 + 4x + 1 $$\n",
    "$$ y = u^4 $$\n",
    "$$ \\frac{dy}{dx} = \\frac{dy}{du}\\frac{du}{dx} $$\n",
    "$$ = 4u^3(2x + 4) $$\n",
    "$$ = 4(x^2 + 4x + 1)^3(2x + 4) $$"
   ]
  },
  {
   "cell_type": "markdown",
   "id": "6d101b75-6529-4bae-aa64-3191334adce1",
   "metadata": {},
   "source": [
    "# 5.3 偏微分"
   ]
  },
  {
   "cell_type": "markdown",
   "id": "6ae34f6e-129d-4d01-9584-2c31e62b04cb",
   "metadata": {},
   "source": [
    "$$ f(x, y) = 2x^3 + 4x^2y + xy^2 - 4y^2 $$\n",
    "$$ \\frac{\\partial}{\\partial x}f(x, y) = 6x^2 + 8xy + y^2 $$\n",
    "$$ \\frac{\\partial}{\\partial y}f(x, y) = 4x^2 + 2xy - 8y $$"
   ]
  },
  {
   "cell_type": "markdown",
   "id": "bd668908-f6ef-491a-94b7-ce1f0b69a540",
   "metadata": {},
   "source": [
    "# 5.4 全微分"
   ]
  },
  {
   "cell_type": "markdown",
   "id": "b962eb34-2ecf-44cc-b80c-5616978949d1",
   "metadata": {},
   "source": [
    "$$ f(x, y) = 2x^3 + 4x^2y + xy^2 - 4y^2 $$\n",
    "$$ \\frac{\\partial}{\\partial x} f(x, y) = 6x^2 + 8xy + y^2 $$\n",
    "$$ \\frac{\\partial}{\\partial y} f(x, y) = 4x^2 + 2xy - 8y $$\n",
    "$$ dz = (6x^2 + 8xy + y^2)dx + (4x^2 + 2xy -8y) $$"
   ]
  },
  {
   "cell_type": "markdown",
   "id": "981a9378-191b-4bb2-94a8-dddb2081b5a8",
   "metadata": {},
   "source": [
    "# 5.5 多変数合成関数の連鎖律"
   ]
  },
  {
   "cell_type": "markdown",
   "id": "087872a2-6a54-48df-9079-13792cce1360",
   "metadata": {},
   "source": [
    "$$ z = 2u^3 + uv^2 + 4v $$\n",
    "$$ u = x^2 + 3x $$\n",
    "$$ v = x + 7 $$\n",
    "$$ \\frac{dz}{dx} = \\frac{\\partial z}{\\partial u}\\frac{du}{dx} + \\frac{\\partial z}{\\partial v}\\frac{dv}{dx} $$\n",
    "$$ = (6u^2 + v^2)(2x + 3) + (2uv + 4) $$\n",
    "$$ = (6(x^2 + 3x)^2 + (x + 7)^2)(2x + 3) + 2(x^2 + 3x)(x + 7) + 4 $$"
   ]
  },
  {
   "cell_type": "markdown",
   "id": "60b438b7-8cb3-488b-87de-f74e8d036c13",
   "metadata": {},
   "source": [
    "# 5.6 ネイピア数と自然対数"
   ]
  },
  {
   "cell_type": "code",
   "execution_count": null,
   "id": "3f60f9f8-25b3-4d48-b22d-8d61436c6fa7",
   "metadata": {},
   "outputs": [],
   "source": [
    "# 5.4\n",
    "import numpy as np\n",
    "\n",
    "print(np.e)\n",
    "print(np.exp(1))"
   ]
  },
  {
   "cell_type": "code",
   "execution_count": null,
   "id": "9edd34cb-b4ac-4a4e-8fb9-67a896bc268b",
   "metadata": {},
   "outputs": [],
   "source": [
    "# 5.5\n",
    "%matplotlib inline\n",
    "\n",
    "import numpy as np\n",
    "import matplotlib.pyplot as plt\n",
    "\n",
    "x = np.linspace(-2, 2)\n",
    "y = np.exp(x)\n",
    "\n",
    "plt.plot(x, y)\n",
    "\n",
    "plt.xlabel(\"x\", size=14)\n",
    "plt.ylabel(\"y\", size=14)\n",
    "plt.grid()\n",
    "plt.show()"
   ]
  },
  {
   "cell_type": "code",
   "execution_count": null,
   "id": "02923401-bdba-47a5-8a92-0ac4eaab91f2",
   "metadata": {},
   "outputs": [],
   "source": [
    "# 5.6\n",
    "import numpy as np\n",
    "\n",
    "print(np.log(np.e))\n",
    "print(np.log(np.exp(2)))\n",
    "print(np.log(np.exp(12)))"
   ]
  },
  {
   "cell_type": "code",
   "execution_count": null,
   "id": "3db013dc-b0f4-4677-9ff3-c5dc7af4d4ab",
   "metadata": {},
   "outputs": [],
   "source": [
    "# 5.7\n",
    "import numpy as np\n",
    "import matplotlib.pyplot as plt\n",
    "\n",
    "x = np.linspace(0.01, 2)\n",
    "y = np.log(x)\n",
    "\n",
    "plt.plot(x, y)\n",
    "\n",
    "plt.xlabel(\"x\", size=14)\n",
    "plt.ylabel(\"y\", size=14)\n",
    "plt.grid()\n",
    "\n",
    "plt.show()"
   ]
  },
  {
   "cell_type": "code",
   "execution_count": null,
   "id": "1bdf99fe-886e-44ae-8ee1-67d65d13412b",
   "metadata": {},
   "outputs": [],
   "source": [
    "# 5.8\n",
    "import numpy as np\n",
    "import matplotlib.pyplot as plt\n",
    "\n",
    "def sigmoid_function(x):\n",
    "    return 1/(1+np.exp(-x))\n",
    "\n",
    "def grad_sigmoid(x):\n",
    "    y = sigmoid_function(x)\n",
    "    return (1-y) * y\n",
    "\n",
    "x = np.linspace(-5, 5)\n",
    "y = sigmoid_function(x)\n",
    "y_grad = grad_sigmoid(x)\n",
    "\n",
    "plt.plot(x, y, label=\"y\")\n",
    "plt.plot(x, y_grad, label=\"y_grad\")\n",
    "plt.legend()\n",
    "\n",
    "plt.xlabel(\"x\", size=14)\n",
    "plt.ylabel(\"y\", size=14)\n",
    "plt.grid()\n",
    "\n",
    "plt.show()"
   ]
  },
  {
   "cell_type": "code",
   "execution_count": null,
   "id": "2ccdf440-bbd4-45bc-ac47-73b1aad97309",
   "metadata": {},
   "outputs": [],
   "source": [
    "# 5.9\n",
    "import numpy as np\n",
    "\n",
    "def approach_napier(n):\n",
    "    return (1 + 1/n) ** n\n",
    "\n",
    "n_list = [2, 4, 10, 100, 1000, 10000]\n",
    "for n in n_list:\n",
    "    print(\"a_\" + str(n) + \" =\", approach_napier(n))"
   ]
  },
  {
   "cell_type": "markdown",
   "id": "b72e924b-9721-43f1-8ed3-188b7ca0bf8c",
   "metadata": {},
   "source": [
    "# 5.7 最急降下法"
   ]
  },
  {
   "cell_type": "code",
   "execution_count": null,
   "id": "a700fbf3-4fb6-4d99-93dc-5ac183e15594",
   "metadata": {},
   "outputs": [],
   "source": [
    "# 5.11\n",
    "%matplotlib inline\n",
    "\n",
    "import numpy as np\n",
    "import matplotlib.pyplot as plt\n",
    "\n",
    "def my_func(x):\n",
    "    return x**2 - 2*x\n",
    "\n",
    "def grad_func(x):\n",
    "    return 2*x - 2\n",
    "\n",
    "eta = 0.1\n",
    "x = 4.0\n",
    "record_x = []\n",
    "record_y = []\n",
    "\n",
    "for i in range(20):\n",
    "    y = my_func(x)\n",
    "    record_x.append(x)\n",
    "    record_y.append(y)\n",
    "    x -= eta * grad_func(x)\n",
    "\n",
    "x_f = np.linspace(-2, 4)\n",
    "y_f = my_func(x_f)\n",
    "\n",
    "plt.plot(x_f, y_f, linestyle=\"dashed\")\n",
    "plt.scatter(record_x, record_y)\n",
    "\n",
    "plt.xlabel(\"x\", size=14)\n",
    "plt.ylabel(\"y\", size=14)\n",
    "plt.grid()\n",
    "\n",
    "plt.show()"
   ]
  },
  {
   "cell_type": "code",
   "execution_count": null,
   "id": "9eb8e7d9-1fb7-480c-a482-884dcb530052",
   "metadata": {},
   "outputs": [],
   "source": [
    "# 5.12\n",
    "import numpy as np\n",
    "import matplotlib.pyplot as plt\n",
    "\n",
    "def my_func(x):\n",
    "    return x**4 + 2*x**3 - 3*x**2 -2*x\n",
    "\n",
    "def grad_func(x):\n",
    "    return 4*x**3 + 6*x**2 -6*x -2\n",
    "\n",
    "eta = 0.01\n",
    "x = 1.6\n",
    "record_x = []\n",
    "record_y = []\n",
    "\n",
    "for i in range(20):\n",
    "    y = my_func(x)\n",
    "    record_x.append(x)\n",
    "    record_y.append(y)\n",
    "    x -= eta * grad_func(x)\n",
    "\n",
    "x_f = np.linspace(-2.8, 1.6)\n",
    "y_f = my_func(x_f)\n",
    "\n",
    "plt.plot(x_f, y_f, linestyle=\"dashed\")\n",
    "plt.scatter(record_x, record_y)\n",
    "\n",
    "plt.xlabel(\"x\", size=14)\n",
    "plt.ylabel(\"y\", size=14)\n",
    "plt.grid()\n",
    "\n",
    "plt.show()"
   ]
  },
  {
   "cell_type": "code",
   "execution_count": null,
   "id": "47385046-581c-4983-bbef-fdfedc4dd123",
   "metadata": {},
   "outputs": [],
   "source": [
    "# 5.13\n",
    "import numpy as np\n",
    "import matplotlib.pyplot as plt\n",
    "\n",
    "def my_func(x):\n",
    "    return x**4 -2*x**3 -3*x**2 + 2*x\n",
    "\n",
    "def grad_func(x):\n",
    "    return 4*x**3 -6*x**2 -6*x + 2\n",
    "\n",
    "eta = 0.01\n",
    "x = 1.0\n",
    "record_x = []\n",
    "record_y = []\n",
    "for i in range(20):\n",
    "    y = my_func(x)\n",
    "    record_x.append(x)\n",
    "    record_y.append(y)\n",
    "    x -= eta * grad_func(x)\n",
    "\n",
    "x_f = np.linspace(-1.6, 2.8)\n",
    "y_f = my_func(x_f)\n",
    "\n",
    "plt.plot(x_f, y_f, linestyle=\"dashed\")\n",
    "plt.scatter(record_x, record_y)\n",
    "\n",
    "plt.xlabel(\"x\", size=14)\n",
    "plt.ylabel(\"y\", size=14)\n",
    "plt.grid()\n",
    "plt.show()"
   ]
  },
  {
   "cell_type": "code",
   "execution_count": null,
   "id": "990125d3-048e-426b-bbf4-bd09ff9fd7bd",
   "metadata": {},
   "outputs": [],
   "source": []
  }
 ],
 "metadata": {
  "kernelspec": {
   "display_name": "Python 3 (ipykernel)",
   "language": "python",
   "name": "python3"
  },
  "language_info": {
   "codemirror_mode": {
    "name": "ipython",
    "version": 3
   },
   "file_extension": ".py",
   "mimetype": "text/x-python",
   "name": "python",
   "nbconvert_exporter": "python",
   "pygments_lexer": "ipython3",
   "version": "3.11.5"
  }
 },
 "nbformat": 4,
 "nbformat_minor": 5
}
